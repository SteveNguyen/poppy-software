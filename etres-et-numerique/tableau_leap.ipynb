{
 "metadata": {
  "name": "tableau_leap-Copy0"
 },
 "nbformat": 3,
 "nbformat_minor": 0,
 "worksheets": [
  {
   "cells": [
    {
     "cell_type": "code",
     "collapsed": false,
     "input": [
      "import os\n",
      "import time\n",
      "import numpy\n",
      "\n",
      "import pypot.primitive\n",
      "import pypot.primitive.move as move\n",
      "\n",
      "from poppytools.primitive.interaction import SmartCompliance\n",
      "from poppytools.primitive.safe import ProtectPoppy\n",
      "\n",
      "MOVES_LEFT = 'ma_left_'\n",
      "MOVES_RIGHT = 'ml_right_'\n",
      "\n",
      "\n",
      "class LeapMotion(pypot.primitive.Primitive):\n",
      "    def __init__(self, poppy_robot, move_path='moves'):\n",
      "        pypot.primitive.Primitive.__init__(self, poppy_robot)\n",
      "\n",
      "        self.poppy_robot = poppy_robot\n",
      "        self.move_path = move_path\n",
      "\n",
      "    def setup(self):\n",
      "        self.safe_prim = ProtectPoppy(self.poppy_robot)\n",
      "        self.safe_prim.start()\n",
      "\n",
      "    def run(self):\n",
      "        \n",
      "        while not(self.should_stop()):\n",
      "            \n",
      "            if numpy.random.randint(1,4) == 3:\n",
      "                for m in poppy.arms:\n",
      "                    m.goto_position(0,2)\n",
      "                time.sleep(3)\n",
      "                \n",
      "                for m in poppy.arms:\n",
      "                    m.moving_speed = 0\n",
      "                \n",
      "                continue\n",
      "            \n",
      "            name_left = MOVES_LEFT+ str(numpy.random.randint(1,10))\n",
      "            name_right = MOVES_RIGHT+str(numpy.random.randint(1,10))\n",
      "            left = self.get_motion(name_left)\n",
      "            right = self.get_motion(name_right)\n",
      "\n",
      "            left.start()\n",
      "            right.start()\n",
      "\n",
      "            left.wait_to_stop()\n",
      "            right.wait_to_stop()\n",
      "\n",
      "\n",
      "    def get_motion(self,mvt_name):\n",
      "        mvt = self.load_move(mvt_name)\n",
      "        self.init_motion(mvt)\n",
      "        return move.MovePlayer(self.poppy_robot, mvt)\n",
      "\n",
      "    def teardown(self):\n",
      "        self.safe_prim.stop()\n",
      "        self.safe_prim.wait_to_stop()\n",
      "        del self.safe_prim\n",
      "\n",
      "\n",
      "    def init_motion(self, mvt):\n",
      "        init = InitMove(self.poppy_robot, mvt)\n",
      "        init.start()\n",
      "        init.wait_to_stop()\n",
      "        del init\n",
      "\n",
      "\n",
      "    def load_move(self, mvt_name):\n",
      "        filename = os.path.join(self.move_path, mvt_name +'.json')\n",
      "\n",
      "        with open(filename, 'r') as f:\n",
      "            mvt = move.Move.load(f)\n",
      "\n",
      "        return mvt\n",
      "\n",
      "class InitMove(pypot.primitive.Primitive):\n",
      "    def __init__(self, poppy_robot, mvt, duration=1):\n",
      "        pypot.primitive.Primitive.__init__(self, poppy_robot)\n",
      "\n",
      "        self.poppy_robot = poppy_robot\n",
      "        self.mvt = mvt\n",
      "        self.duration = duration\n",
      "\n",
      "    def run(self):\n",
      "        self.poppy_robot.goto_position(self.mvt.get_frame(0), self.duration)\n",
      "        time.sleep(self.duration)\n",
      "\n",
      "    def teardown(self):\n",
      "        for m in self.poppy_robot.motors:\n",
      "            m.moving_speed = 0\n",
      "\n"
     ],
     "language": "python",
     "metadata": {},
     "outputs": [],
     "prompt_number": 1
    },
    {
     "cell_type": "code",
     "collapsed": false,
     "input": [
      "import pypot.robot\n",
      "from poppytools.configuration.config import poppy_config\n",
      "from poppytools.primitive.basic import InitRobot, SitPosition, StandPosition\n",
      "from poppytools.primitive.interaction import SmartCompliance\n",
      "import os\n",
      "import pypot.primitive.move as move\n",
      "\n",
      "poppy = pypot.robot.from_config(poppy_config)\n",
      "poppy.start_sync()\n",
      "poppy.attach_primitive(InitRobot(poppy), 'init')\n",
      "poppy.attach_primitive(SmartCompliance(poppy, poppy.motors, 50),'smart_compliance')\n",
      "\n",
      "pathname = 'demo/demonstrator/moves/'"
     ],
     "language": "python",
     "metadata": {},
     "outputs": [],
     "prompt_number": 2
    },
    {
     "cell_type": "code",
     "collapsed": false,
     "input": [
      "poppy.attach_primitive(LeapMotion(poppy, move_path=pathname), 'leap')"
     ],
     "language": "python",
     "metadata": {},
     "outputs": [],
     "prompt_number": 3
    },
    {
     "cell_type": "code",
     "collapsed": false,
     "input": [
      "poppy.leap.start()\n",
      "time.sleep(150)\n",
      "poppy.leap.stop()"
     ],
     "language": "python",
     "metadata": {},
     "outputs": [],
     "prompt_number": 4
    },
    {
     "cell_type": "code",
     "collapsed": false,
     "input": [
      "for m in poppy.arms:\n",
      "    m.goto_position(0,3)"
     ],
     "language": "python",
     "metadata": {},
     "outputs": [],
     "prompt_number": 5
    },
    {
     "cell_type": "code",
     "collapsed": false,
     "input": [
      "print 'bite'"
     ],
     "language": "python",
     "metadata": {},
     "outputs": [
      {
       "output_type": "stream",
       "stream": "stdout",
       "text": [
        "bite\n"
       ]
      }
     ],
     "prompt_number": 6
    },
    {
     "cell_type": "code",
     "collapsed": false,
     "input": [],
     "language": "python",
     "metadata": {},
     "outputs": [],
     "prompt_number": 6
    },
    {
     "cell_type": "code",
     "collapsed": false,
     "input": [
      "poppy.abs_y.goal_position = -1"
     ],
     "language": "python",
     "metadata": {},
     "outputs": [],
     "prompt_number": 6
    },
    {
     "cell_type": "code",
     "collapsed": false,
     "input": [
      "from pypot.primitive.utils import Sinus"
     ],
     "language": "python",
     "metadata": {},
     "outputs": [],
     "prompt_number": 5
    },
    {
     "cell_type": "code",
     "collapsed": false,
     "input": [
      "poppy.attach_primitive(Sinus(poppy, 40, [poppy.abs_z,], amp=5, freq=0.2 ), 'sinus_z')"
     ],
     "language": "python",
     "metadata": {},
     "outputs": [],
     "prompt_number": 6
    },
    {
     "cell_type": "code",
     "collapsed": false,
     "input": [
      "poppy.sinus_z.start()"
     ],
     "language": "python",
     "metadata": {},
     "outputs": [],
     "prompt_number": 7
    },
    {
     "cell_type": "code",
     "collapsed": false,
     "input": [
      "poppy.attach_primitive(Sinus(poppy, 40, [poppy.head_z, ], amp=10, freq=0.4), 'sinus_head')"
     ],
     "language": "python",
     "metadata": {},
     "outputs": [],
     "prompt_number": 8
    },
    {
     "cell_type": "code",
     "collapsed": false,
     "input": [
      "poppy.sinus_head.start()"
     ],
     "language": "python",
     "metadata": {},
     "outputs": [],
     "prompt_number": 9
    },
    {
     "cell_type": "code",
     "collapsed": false,
     "input": [
      "poppy.sinus_head.frequency = 0.1"
     ],
     "language": "python",
     "metadata": {},
     "outputs": [],
     "prompt_number": 10
    },
    {
     "cell_type": "code",
     "collapsed": false,
     "input": [
      "poppy.sinus_z.amplitude = 15"
     ],
     "language": "python",
     "metadata": {},
     "outputs": [],
     "prompt_number": 11
    },
    {
     "cell_type": "code",
     "collapsed": false,
     "input": [
      "poppy.primitives"
     ],
     "language": "python",
     "metadata": {},
     "outputs": [
      {
       "output_type": "pyout",
       "prompt_number": 11,
       "text": [
        "[<__main__.LeapMotion at 0x2e11510>,\n",
        " <poppytools.primitive.safe.ProtectPoppy at 0x2ef9d30>,\n",
        " <pypot.primitive.utils.Sinus at 0x2f72b70>,\n",
        " <pypot.primitive.move.MovePlayer at 0x677ab30>,\n",
        " <pypot.primitive.move.MovePlayer at 0x67a2f10>]"
       ]
      }
     ],
     "prompt_number": 11
    },
    {
     "cell_type": "code",
     "collapsed": false,
     "input": [
      "for m in poppy.motors:\n",
      "    print m.name, m.torque_limit, m.compliant"
     ],
     "language": "python",
     "metadata": {},
     "outputs": [
      {
       "output_type": "stream",
       "stream": "stdout",
       "text": [
        "abs_y 23.0 False\n",
        "abs_x 26.6 False\n",
        "abs_z 23.7413723232 False\n",
        "bust_y 21.95 False\n",
        "bust_x 25.25 False\n",
        "head_z 20.0 False\n",
        "head_y 24.35 False\n",
        "l_shoulder_y 23.3 False\n",
        "l_shoulder_x 23.9 False\n",
        "l_arm_z 21.35 False\n",
        "l_elbow_y 23.975 False\n",
        "r_shoulder_y 49.7 False\n",
        "r_shoulder_x 23.9 False\n",
        "r_arm_z 48.35 False\n",
        "r_elbow_y 27.2 False\n",
        "l_hip_x 20.675 False\n",
        "l_hip_z 21.95 False\n",
        "l_hip_y 20.675 False\n",
        "l_knee_y 40.4 True\n",
        "l_ankle_y 95 True\n",
        "r_hip_x 20.0 False\n",
        "r_hip_z 20.675 False\n",
        "r_hip_y 20.675 False\n",
        "r_knee_y 23.9 True\n",
        "r_ankle_y 95 True\n"
       ]
      }
     ],
     "prompt_number": 15
    },
    {
     "cell_type": "code",
     "collapsed": false,
     "input": [
      "numpy.random.randint(1,3)"
     ],
     "language": "python",
     "metadata": {},
     "outputs": [
      {
       "output_type": "pyout",
       "prompt_number": 10,
       "text": [
        "1"
       ]
      }
     ],
     "prompt_number": 10
    },
    {
     "cell_type": "code",
     "collapsed": false,
     "input": [],
     "language": "python",
     "metadata": {},
     "outputs": [],
     "prompt_number": 13
    },
    {
     "cell_type": "code",
     "collapsed": false,
     "input": [
      "for prim in poppy.primitives:\n",
      "    prim.stop()"
     ],
     "language": "python",
     "metadata": {},
     "outputs": [],
     "prompt_number": 12
    },
    {
     "cell_type": "code",
     "collapsed": false,
     "input": [
      "for m in poppy.arms:\n",
      "    m.compliant = False"
     ],
     "language": "python",
     "metadata": {},
     "outputs": [],
     "prompt_number": 13
    },
    {
     "cell_type": "code",
     "collapsed": false,
     "input": [
      "for m in poppy.motors:\n",
      "    print m.name, 'temp :', m.present_temperature, 'load :',m.present_load"
     ],
     "language": "python",
     "metadata": {},
     "outputs": [
      {
       "output_type": "stream",
       "stream": "stdout",
       "text": [
        "\n",
        "abs_y"
       ]
      },
      {
       "output_type": "stream",
       "stream": "stdout",
       "text": [
        " temp : 44.0 load : -15.3\n",
        "abs_x temp : 39.0 load : 3.1\n",
        "abs_z temp : 34.0 load : -5.9\n",
        "bust_y temp : 41.0 load : -16.5\n",
        "bust_x temp : 37.0 load : 10.9\n",
        "head_z temp : 39.0 load : 0.0\n",
        "head_y temp : 33.0 load : -0.0\n",
        "l_shoulder_y temp : 36.0 load : -8.4\n",
        "l_shoulder_x temp : 33.0 load : 23.5\n",
        "l_arm_z temp : 31.0 load : 1.8\n",
        "l_elbow_y temp : 39.0 load : -46.9\n",
        "r_shoulder_y temp : 36.0 load : 3.1\n",
        "r_shoulder_x temp : 32.0 load : -10.0\n",
        "r_arm_z temp : 30.0 load : -1.2\n",
        "r_elbow_y temp : 37.0 load : -44.7\n",
        "l_hip_x temp : 45.0 load : 11.0\n",
        "l_hip_z temp : 44.0 load : -12.6\n",
        "l_hip_y temp : 43.0 load : -3.6\n",
        "l_knee_y temp : 33.0 load : 0.0\n",
        "l_ankle_y temp : 33.0 load : 0.0\n",
        "r_hip_x temp : 45.0 load : -3.9\n",
        "r_hip_z temp : 39.0 load : -3.5\n",
        "r_hip_y temp : 40.0 load : 13.3\n",
        "r_knee_y temp : 33.0 load : -0.0\n",
        "r_ankle_y temp : 33.0 load : -0.0\n"
       ]
      }
     ],
     "prompt_number": 9
    },
    {
     "cell_type": "code",
     "collapsed": false,
     "input": [],
     "language": "python",
     "metadata": {},
     "outputs": [
      {
       "output_type": "stream",
       "stream": "stdout",
       "text": [
        "ma_left_4 ml_right_3\n"
       ]
      }
     ],
     "prompt_number": 9
    },
    {
     "cell_type": "code",
     "collapsed": false,
     "input": [],
     "language": "python",
     "metadata": {},
     "outputs": [
      {
       "output_type": "stream",
       "stream": "stdout",
       "text": [
        "ma_left_9 ml_right_2\n"
       ]
      },
      {
       "output_type": "stream",
       "stream": "stdout",
       "text": [
        "ma_left_4 ml_right_7\n",
        "ma_left_7"
       ]
      },
      {
       "output_type": "stream",
       "stream": "stdout",
       "text": [
        " ml_right_3\n",
        "ma_left_8"
       ]
      },
      {
       "output_type": "stream",
       "stream": "stdout",
       "text": [
        " ml_right_9\n",
        "ma_left_7"
       ]
      },
      {
       "output_type": "stream",
       "stream": "stdout",
       "text": [
        " ml_right_9\n",
        "ma_left_9"
       ]
      }
     ],
     "prompt_number": 9
    },
    {
     "cell_type": "code",
     "collapsed": false,
     "input": [],
     "language": "python",
     "metadata": {},
     "outputs": [
      {
       "output_type": "stream",
       "stream": "stdout",
       "text": [
        " ml_right_1\n"
       ]
      }
     ],
     "prompt_number": 9
    },
    {
     "cell_type": "code",
     "collapsed": false,
     "input": [],
     "language": "python",
     "metadata": {},
     "outputs": [
      {
       "output_type": "stream",
       "stream": "stdout",
       "text": [
        "ma_left_1 ml_right_6\n",
        "retour 0"
       ]
      },
      {
       "output_type": "stream",
       "stream": "stdout",
       "text": [
        "\n",
        "ma_left_7"
       ]
      }
     ],
     "prompt_number": 9
    },
    {
     "cell_type": "code",
     "collapsed": false,
     "input": [],
     "language": "python",
     "metadata": {},
     "outputs": []
    }
   ],
   "metadata": {}
  }
 ]
}