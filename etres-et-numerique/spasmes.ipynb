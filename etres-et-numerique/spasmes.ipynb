{
 "metadata": {
  "name": "spasmes"
 },
 "nbformat": 3,
 "nbformat_minor": 0,
 "worksheets": [
  {
   "cells": [
    {
     "cell_type": "code",
     "collapsed": false,
     "input": [
      "import time\n",
      "import numpy\n",
      "import pypot.primitive\n",
      "\n",
      "from poppytools.primitive.interaction import SmartCompliance\n",
      "\n",
      "\n",
      "\n",
      "class Spasmes(pypot.primitive.Primitive):\n",
      "    def __init__(self, poppy_robot, duration):\n",
      "        pypot.primitive.Primitive.__init__(self, poppy_robot)\n",
      "\n",
      "        self.poppy_robot = poppy_robot\n",
      "        self.duration = duration\n",
      "\n",
      "        if not(hasattr(self.poppy_robot, 'smart_compliance')):\n",
      "            self.poppy_robot.attach_primitive(SmartCompliance(self.poppy_robot,self.poppy_robot.motors, 50), 'smart_compliance')\n",
      "\n",
      "    def setup(self):\n",
      "        self.poppy_robot.smart_compliance.start()\n",
      "        for m in self.poppy_robot.motors:\n",
      "            m.torque_limit = 80\n",
      "\n",
      "    def run(self):\n",
      "        self.poppy_robot.smart_compliance.stop()\n",
      "        self.poppy_robot.smart_compliance.wait_to_stop()\n",
      "\n",
      "        self.create_spasme()\n",
      "\n",
      "        time.sleep(self.duration)\n",
      "\n",
      "        self.poppy_robot.smart_compliance.start()\n",
      "\n",
      "        time.sleep(1)\n",
      "\n",
      "    def create_spasme(self):\n",
      "        for m in self.poppy_robot.motors:\n",
      "            m.compliant = False\n",
      "\n",
      "        for m in self.poppy_robot.r_arm + self.poppy_robot.l_arm + self.poppy_robot.head:\n",
      "            pos = m.present_position + numpy.random.choice([-1,1]) * numpy.random.randint(10,30)\n",
      "            m.goto_position(pos, self.duration/2)\n",
      "\n",
      "        for m in self.poppy_robot.l_leg_sagitall + self.poppy_robot.r_leg_sagitall:\n",
      "            pos = m.present_position + numpy.random.choice([-1,1]) * numpy.random.randint(10,50)\n",
      "            m.goto_position(pos, self.duration/2)\n",
      "            #m.goto_position(m.present_position + numpy.random.randint(-30,30),0.3)\n",
      "\n",
      "    #def teardown(self):\n",
      "     #   self.poppy_robot.smart_compliance.stop()\n",
      "      #  self.poppy_robot.smart_compliance.wait_to_stop()\n",
      "\n",
      "\n"
     ],
     "language": "python",
     "metadata": {},
     "outputs": [],
     "prompt_number": 1
    },
    {
     "cell_type": "code",
     "collapsed": false,
     "input": [
      "import pypot.robot\n",
      "\n",
      "from poppytools.configuration.config import poppy_config"
     ],
     "language": "python",
     "metadata": {},
     "outputs": [],
     "prompt_number": 2
    },
    {
     "cell_type": "code",
     "collapsed": false,
     "input": [
      "poppy = pypot.robot.from_config(poppy_config)\n",
      "poppy.start_sync()"
     ],
     "language": "python",
     "metadata": {},
     "outputs": [],
     "prompt_number": 3
    },
    {
     "cell_type": "code",
     "collapsed": false,
     "input": [
      "poppy.attach_primitive(Spasmes(poppy, 0.7), 'spasme')"
     ],
     "language": "python",
     "metadata": {},
     "outputs": [],
     "prompt_number": 4
    },
    {
     "cell_type": "code",
     "collapsed": false,
     "input": [
      "poppy.smart_compliance.start()"
     ],
     "language": "python",
     "metadata": {},
     "outputs": [],
     "prompt_number": 5
    },
    {
     "cell_type": "code",
     "collapsed": false,
     "input": [
      "t0 = time.time()\n",
      "t = 0\n",
      "while t < 90:\n",
      "    t = time.time() - t0\n",
      "    poppy.spasme.start()\n",
      "    print t\n",
      "    time.sleep(10)\n",
      "    "
     ],
     "language": "python",
     "metadata": {},
     "outputs": [
      {
       "output_type": "stream",
       "stream": "stdout",
       "text": [
        "0.00100016593933\n",
        "10.0160000324"
       ]
      },
      {
       "output_type": "stream",
       "stream": "stdout",
       "text": [
        "\n",
        "20.0380001068"
       ]
      },
      {
       "output_type": "stream",
       "stream": "stdout",
       "text": [
        "\n",
        "30.0620000362"
       ]
      },
      {
       "output_type": "stream",
       "stream": "stdout",
       "text": [
        "\n",
        "40.0789999962"
       ]
      },
      {
       "output_type": "stream",
       "stream": "stdout",
       "text": [
        "\n",
        "50.0970001221"
       ]
      },
      {
       "output_type": "stream",
       "stream": "stdout",
       "text": [
        "\n",
        "60.117000103"
       ]
      },
      {
       "output_type": "stream",
       "stream": "stdout",
       "text": [
        "\n",
        "70.1400001049"
       ]
      }
     ],
     "prompt_number": "*"
    },
    {
     "cell_type": "code",
     "collapsed": false,
     "input": [],
     "language": "python",
     "metadata": {},
     "outputs": []
    }
   ],
   "metadata": {}
  }
 ]
}