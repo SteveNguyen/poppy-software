{
 "metadata": {
  "name": "tableau_tango"
 },
 "nbformat": 3,
 "nbformat_minor": 0,
 "worksheets": [
  {
   "cells": [
    {
     "cell_type": "code",
     "collapsed": false,
     "input": [
      "import os\n",
      "import time\n",
      "import numpy\n",
      "\n",
      "import pypot.primitive\n",
      "import pypot.primitive.move as move\n",
      "\n",
      "from poppytools.primitive.interaction import SmartCompliance\n",
      "from poppytools.primitive.safe import ProtectPoppy"
     ],
     "language": "python",
     "metadata": {},
     "outputs": [],
     "prompt_number": 1
    },
    {
     "cell_type": "code",
     "collapsed": false,
     "input": [
      "\n",
      "import pypot.robot\n",
      "from poppytools.configuration.config import poppy_config\n",
      "from poppytools.primitive.basic import InitRobot, SitPosition, StandPosition\n",
      "from poppytools.primitive.interaction import SmartCompliance\n",
      "import os\n",
      "import pypot.primitive.move as move\n",
      "\n",
      "poppy = pypot.robot.from_config(poppy_config)\n",
      "poppy.start_sync()\n",
      "poppy.attach_primitive(StandPosition(poppy), 'stand')\n",
      "poppy.attach_primitive(ProtectPoppy(poppy), 'safe')\n",
      "poppy.attach_primitive(SmartCompliance(poppy, poppy.arms, 50),'smart_compliance')\n",
      "poppy.attach_primitive(SitPosition(poppy), 'sit')"
     ],
     "language": "python",
     "metadata": {},
     "outputs": [],
     "prompt_number": 2
    },
    {
     "cell_type": "code",
     "collapsed": false,
     "input": [
      "poppy.sit.start()"
     ],
     "language": "python",
     "metadata": {},
     "outputs": [],
     "prompt_number": 3
    },
    {
     "cell_type": "code",
     "collapsed": false,
     "input": [
      "poppy.sit.stop()\n",
      "poppy.sit.wait_to_stop()\n",
      "poppy.stand.start()\n",
      "#poppy.safe.start()\n",
      "poppy.stand.wait_to_stop()\n",
      "poppy.smart_compliance.start()"
     ],
     "language": "python",
     "metadata": {},
     "outputs": [
      {
       "output_type": "stream",
       "stream": "stdout",
       "text": [
        "initialisation\n"
       ]
      }
     ],
     "prompt_number": 4
    },
    {
     "cell_type": "code",
     "collapsed": false,
     "input": [
      "#poppy.safe.stop()"
     ],
     "language": "python",
     "metadata": {},
     "outputs": [],
     "prompt_number": 2
    },
    {
     "cell_type": "code",
     "collapsed": false,
     "input": [
      "for m in poppy.legs:\n",
      "    m.torque_limit= 0"
     ],
     "language": "python",
     "metadata": {},
     "outputs": [],
     "prompt_number": 19
    },
    {
     "cell_type": "code",
     "collapsed": false,
     "input": [],
     "language": "python",
     "metadata": {},
     "outputs": [],
     "prompt_number": 9
    },
    {
     "cell_type": "code",
     "collapsed": false,
     "input": [
      "poppy.safe.stop()"
     ],
     "language": "python",
     "metadata": {},
     "outputs": [],
     "prompt_number": 6
    },
    {
     "cell_type": "code",
     "collapsed": false,
     "input": [
      "for prim in poppy.primitives:\n",
      "    prim.stop()\n"
     ],
     "language": "python",
     "metadata": {},
     "outputs": [],
     "prompt_number": 22
    },
    {
     "cell_type": "code",
     "collapsed": false,
     "input": [
      "for m in poppy.motors:\n",
      "    m.torque_limit = 98"
     ],
     "language": "python",
     "metadata": {},
     "outputs": [],
     "prompt_number": 5
    },
    {
     "cell_type": "code",
     "collapsed": false,
     "input": [
      "poppy.smart_compliance.start()"
     ],
     "language": "python",
     "metadata": {},
     "outputs": [],
     "prompt_number": 21
    },
    {
     "cell_type": "code",
     "collapsed": false,
     "input": [
      "for m in poppy.primitives:\n",
      "    m.stop()"
     ],
     "language": "python",
     "metadata": {},
     "outputs": [],
     "prompt_number": 22
    },
    {
     "cell_type": "code",
     "collapsed": false,
     "input": [
      "for m in poppy.motors:\n",
      "    m.compliant"
     ],
     "language": "python",
     "metadata": {},
     "outputs": [
      {
       "output_type": "stream",
       "stream": "stderr",
       "text": [
        "Exception in thread Thread-get_pos_speed_load:\n",
        "Traceback (most recent call last):\n",
        "  File \"C:\\Python27\\lib\\threading.py\", line 810, in __bootstrap_inner\n",
        "    self.run()\n",
        "  File \"c:\\users\\poppy\\documents\\pypot\\pypot\\dynamixel\\controller.py\", line 162, in run\n",
        "    self.function()\n",
        "  File \"c:\\users\\poppy\\documents\\pypot\\pypot\\dynamixel\\controller.py\", line 111, in _get_pos_speed_load\n",
        "    values = self._dxl_io.get_present_position_speed_load(self._ids)\n",
        "  File \"c:\\users\\poppy\\documents\\pypot\\pypot\\dynamixel\\io.py\", line 383, in my_getter\n",
        "    return self._get_control_value(control, ids, **kwargs)\n",
        "  File \"c:\\users\\poppy\\documents\\pypot\\pypot\\dynamixel\\io.py\", line 410, in _get_control_value\n",
        "    sp = self._send_packet(rp, error_handler=error_handler)\n",
        "  File \"c:\\users\\poppy\\documents\\pypot\\pypot\\dynamixel\\io.py\", line 531, in _send_packet\n",
        "    sp = self.__real_send(instruction_packet, wait_for_status_packet, _force_lock)\n",
        "  File \"c:\\users\\poppy\\documents\\pypot\\pypot\\dynamixel\\io.py\", line 494, in __real_send\n",
        "    nbytes = self._serial.write(data)\n",
        "  File \"C:\\Python27\\lib\\site-packages\\serial\\serialwin32.py\", line 270, in write\n",
        "    raise writeTimeoutError\n",
        "SerialTimeoutException: Write timeout\n",
        "\n",
        "Exception in thread Thread-set_compliance_margin:\n",
        "Traceback (most recent call last):\n",
        "  File \"C:\\Python27\\lib\\threading.py\", line 810, in __bootstrap_inner\n",
        "    self.run()\n",
        "  File \"c:\\users\\poppy\\documents\\pypot\\pypot\\dynamixel\\controller.py\", line 162, in run\n",
        "    self.function()\n",
        "  File \"c:\\users\\poppy\\documents\\pypot\\pypot\\dynamixel\\controller.py\", line 60, in <lambda>\n",
        "    self.add_sync_loop(freq, lambda: self._set_register(regname, varname),\n",
        "  File \"c:\\users\\poppy\\documents\\pypot\\pypot\\dynamixel\\controller.py\", line 71, in _set_register\n",
        "    getattr(self._dxl_io, 'set_{}'.format(regname))(dict(zip(ids, values)))\n",
        "  File \"c:\\users\\poppy\\documents\\pypot\\pypot\\dynamixel\\io.py\", line 393, in my_setter\n",
        "    self._set_control_value(control, value_for_id, **kwargs)\n",
        "  File \"c:\\users\\poppy\\documents\\pypot\\pypot\\dynamixel\\io.py\", line 478, in _set_control_value\n",
        "    self._send_packet(wp, wait_for_status_packet=False)\n",
        "  File \"c:\\users\\poppy\\documents\\pypot\\pypot\\dynamixel\\io.py\", line 528, in _send_packet\n",
        "    return self.__real_send(instruction_packet, wait_for_status_packet, _force_lock)\n",
        "  File \"c:\\users\\poppy\\documents\\pypot\\pypot\\dynamixel\\io.py\", line 494, in __real_send\n",
        "    nbytes = self._serial.write(data)\n",
        "  File \"C:\\Python27\\lib\\site-packages\\serial\\serialwin32.py\", line 270, in write\n",
        "    raise writeTimeoutError\n",
        "SerialTimeoutException: Write timeout\n",
        "\n",
        "Exception in thread Thread-get_present_voltage:\n",
        "Traceback (most recent call last):\n",
        "  File \"C:\\Python27\\lib\\threading.py\", line 810, in __bootstrap_inner\n",
        "    self.run()\n",
        "  File \"c:\\users\\poppy\\documents\\pypot\\pypot\\dynamixel\\controller.py\", line 162, in run\n",
        "    self.function()\n",
        "  File \"c:\\users\\poppy\\documents\\pypot\\pypot\\dynamixel\\controller.py\", line 40, in <lambda>\n",
        "    self.add_sync_loop(freq, lambda: self._get_register(regname, varname),\n",
        "  File \"c:\\users\\poppy\\documents\\pypot\\pypot\\dynamixel\\controller.py\", line 49, in _get_register\n",
        "    values = getattr(self._dxl_io, 'get_{}'.format(regname))(ids)\n",
        "  File \"c:\\users\\poppy\\documents\\pypot\\pypot\\dynamixel\\io.py\", line 383, in my_getter\n",
        "    return self._get_control_value(control, ids, **kwargs)\n",
        "  File \"c:\\users\\poppy\\documents\\pypot\\pypot\\dynamixel\\io.py\", line 410, in _get_control_value\n",
        "    sp = self._send_packet(rp, error_handler=error_handler)\n",
        "  File \"c:\\users\\poppy\\documents\\pypot\\pypot\\dynamixel\\io.py\", line 531, in _send_packet\n",
        "    sp = self.__real_send(instruction_packet, wait_for_status_packet, _force_lock)\n",
        "  File \"c:\\users\\poppy\\documents\\pypot\\pypot\\dynamixel\\io.py\", line 494, in __real_send\n",
        "    nbytes = self._serial.write(data)\n",
        "  File \"C:\\Python27\\lib\\site-packages\\serial\\serialwin32.py\", line 270, in write\n",
        "    raise writeTimeoutError\n",
        "SerialTimeoutException: Write timeout\n",
        "\n"
       ]
      }
     ],
     "prompt_number": 23
    },
    {
     "cell_type": "code",
     "collapsed": false,
     "input": [],
     "language": "python",
     "metadata": {},
     "outputs": []
    }
   ],
   "metadata": {}
  }
 ]
}