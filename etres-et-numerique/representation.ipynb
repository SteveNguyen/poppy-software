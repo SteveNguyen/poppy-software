{
 "metadata": {
  "name": "representation"
 },
 "nbformat": 3,
 "nbformat_minor": 0,
 "worksheets": [
  {
   "cells": [
    {
     "cell_type": "code",
     "collapsed": false,
     "input": [
      "from scenography import *\n",
      "from poppytools.configuration.config import poppy_config, poppy_config2\n",
      "import pypot.robot\n",
      "import time\n",
      "poppy = pypot.robot.from_config(poppy_config2)\n",
      "poppy.start_sync()"
     ],
     "language": "python",
     "metadata": {},
     "outputs": [],
     "prompt_number": 1
    },
    {
     "cell_type": "code",
     "collapsed": false,
     "input": [
      "init_sceno = InitScenography(poppy)\n",
      "ground_moves = GroundMotionScene(poppy)\n",
      "spasmes = Spasmes(poppy, duration=0.7)\n",
      "walk = WalkingScene(poppy)\n",
      "leap = LeapMotion(poppy)\n",
      "tango = TangoScene(poppy)"
     ],
     "language": "python",
     "metadata": {},
     "outputs": [],
     "prompt_number": 2
    },
    {
     "cell_type": "code",
     "collapsed": false,
     "input": [
      "init_sceno.start()"
     ],
     "language": "python",
     "metadata": {},
     "outputs": [],
     "prompt_number": 3
    },
    {
     "cell_type": "code",
     "collapsed": false,
     "input": [
      "ground_moves.start()"
     ],
     "language": "python",
     "metadata": {},
     "outputs": [],
     "prompt_number": 4
    },
    {
     "cell_type": "code",
     "collapsed": false,
     "input": [
      "ground_moves.stop()"
     ],
     "language": "python",
     "metadata": {},
     "outputs": []
    },
    {
     "cell_type": "code",
     "collapsed": false,
     "input": [],
     "language": "python",
     "metadata": {},
     "outputs": [],
     "prompt_number": 5
    },
    {
     "cell_type": "code",
     "collapsed": false,
     "input": [
      "poppy.smart_compliance.is_alive()"
     ],
     "language": "python",
     "metadata": {},
     "outputs": [
      {
       "output_type": "pyout",
       "prompt_number": 7,
       "text": [
        "True"
       ]
      }
     ],
     "prompt_number": 7
    },
    {
     "cell_type": "code",
     "collapsed": false,
     "input": [
      "spasmes.start()"
     ],
     "language": "python",
     "metadata": {},
     "outputs": [],
     "prompt_number": 6
    },
    {
     "cell_type": "code",
     "collapsed": false,
     "input": [
      "spasmes.stop()"
     ],
     "language": "python",
     "metadata": {},
     "outputs": [],
     "prompt_number": 8
    },
    {
     "cell_type": "code",
     "collapsed": false,
     "input": [
      "walk.start()"
     ],
     "language": "python",
     "metadata": {},
     "outputs": [
      {
       "output_type": "stream",
       "stream": "stdout",
       "text": [
        "StandPosition run <poppytools.primitive.basic.StandPosition object at 0x02D3FCB0>\n"
       ]
      }
     ],
     "prompt_number": 4
    },
    {
     "cell_type": "code",
     "collapsed": false,
     "input": [
      "walk.stop()"
     ],
     "language": "python",
     "metadata": {},
     "outputs": [],
     "prompt_number": 5
    },
    {
     "cell_type": "code",
     "collapsed": false,
     "input": [
      "poppy.abs_y.present_position"
     ],
     "language": "python",
     "metadata": {},
     "outputs": [
      {
       "output_type": "pyout",
       "prompt_number": 7,
       "text": [
        "-1.8"
       ]
      }
     ],
     "prompt_number": 7
    },
    {
     "cell_type": "code",
     "collapsed": false,
     "input": [
      "leap.start()\n",
      "time.sleep(150)\n",
      "leap.stop()\n",
      "print 'leap motion terminated'"
     ],
     "language": "python",
     "metadata": {},
     "outputs": [
      {
       "output_type": "stream",
       "stream": "stdout",
       "text": [
        "leap motion terminated\n"
       ]
      }
     ],
     "prompt_number": 6
    },
    {
     "cell_type": "code",
     "collapsed": false,
     "input": [],
     "language": "python",
     "metadata": {},
     "outputs": [],
     "prompt_number": 7
    },
    {
     "cell_type": "code",
     "collapsed": false,
     "input": [
      "tango.start()"
     ],
     "language": "python",
     "metadata": {},
     "outputs": [
      {
       "output_type": "stream",
       "stream": "stdout",
       "text": [
        "StandPosition run <poppytools.primitive.basic.StandPosition object at 0x02D3FCB0>\n"
       ]
      }
     ],
     "prompt_number": 8
    },
    {
     "cell_type": "code",
     "collapsed": false,
     "input": [],
     "language": "python",
     "metadata": {},
     "outputs": [],
     "prompt_number": 12
    },
    {
     "cell_type": "code",
     "collapsed": false,
     "input": [
      "tango.switch_mode()"
     ],
     "language": "python",
     "metadata": {},
     "outputs": [],
     "prompt_number": 17
    },
    {
     "cell_type": "code",
     "collapsed": false,
     "input": [
      "tango.stop()"
     ],
     "language": "python",
     "metadata": {},
     "outputs": [],
     "prompt_number": 18
    },
    {
     "cell_type": "code",
     "collapsed": false,
     "input": [
      "for m in poppy.motors:\n",
      "    print m.name, m.present_temperature"
     ],
     "language": "python",
     "metadata": {},
     "outputs": [
      {
       "output_type": "stream",
       "stream": "stdout",
       "text": [
        "abs_y 43.0\n",
        "abs_x 41.0\n",
        "abs_z 41.0\n",
        "bust_y 45.0\n",
        "bust_x 47.0\n",
        "head_z 39.0\n",
        "head_y 36.0\n",
        "l_shoulder_y 41.0\n",
        "l_shoulder_x 39.0\n",
        "l_arm_z 32.0\n",
        "l_elbow_y 33.0\n",
        "r_shoulder_y 40.0\n",
        "r_shoulder_x 36.0\n",
        "r_arm_z 31.0\n",
        "r_elbow_y 32.0\n",
        "l_hip_x 36.0\n",
        "l_hip_z 37.0\n",
        "l_hip_y 39.0\n",
        "l_knee_y 38.0\n",
        "l_ankle_y 39.0\n",
        "r_hip_x 40.0\n",
        "r_hip_z 40.0\n",
        "r_hip_y 42.0\n",
        "r_knee_y 29.0\n",
        "r_ankle_y 39.0\n"
       ]
      }
     ],
     "prompt_number": 23
    },
    {
     "cell_type": "code",
     "collapsed": false,
     "input": [],
     "language": "python",
     "metadata": {},
     "outputs": []
    }
   ],
   "metadata": {}
  }
 ]
}