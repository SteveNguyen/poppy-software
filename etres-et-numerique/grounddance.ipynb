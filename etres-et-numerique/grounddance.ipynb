{
 "metadata": {
  "name": "grounddance"
 },
 "nbformat": 3,
 "nbformat_minor": 0,
 "worksheets": [
  {
   "cells": [
    {
     "cell_type": "code",
     "collapsed": false,
     "input": [
      "import os\n",
      "import time\n",
      "\n",
      "import pypot.primitive\n",
      "import pypot.primitive.move as move\n",
      "\n",
      "from poppytools.primitive.interaction import SmartCompliance\n",
      "\n",
      "MOVES = ['intro',\n",
      "        'passage_plage',\n",
      "        'mvt_sable',\n",
      "        'passage_dos',\n",
      "        'mvt_petitpied',\n",
      "        'mvt_retournement',\n",
      "        'passage_4pattes',\n",
      "        '4patte_chute']\n",
      "\n",
      "\n",
      "class GroundMotionIntro(pypot.primitive.Primitive):\n",
      "    def __init__(self, poppy_robot, move_list=MOVES, move_path='moves'):\n",
      "        pypot.primitive.Primitive.__init__(self, poppy_robot)\n",
      "\n",
      "        self.poppy_robot = poppy_robot\n",
      "        self.move_list = move_list\n",
      "        self.move_path = move_path\n",
      "\n",
      "    def setup(self):\n",
      "        self.safe_prim = ProtectPoppy(self.poppy_robot)\n",
      "        self.safe_prim.start()\n",
      "\n",
      "    def run(self):\n",
      "        for mvt_name in self.move_list:\n",
      "            mvt = self.load_move(mvt_name)\n",
      "            self.init_motion(mvt)\n",
      "            self.run_motion(mvt)\n",
      "\n",
      "    def teardown(self):\n",
      "        self.safe_prim.stop()\n",
      "        self.safe_prim.wait_to_stop()\n",
      "        del self.safe_prim\n",
      "\n",
      "        self.poppy_robot.attach_primitive(SmartCompliance(self.poppy_robot,self.poppy_robot.motors,50), 'smart_compliance')\n",
      "        self.poppy_robot.smart_compliance.start()\n",
      "\n",
      "\n",
      "    def init_motion(self, mvt):\n",
      "        init = InitMove(self.poppy_robot, mvt)\n",
      "        init.start()\n",
      "        init.wait_to_stop()\n",
      "        del init\n",
      "\n",
      "    def run_motion(self,mvt):\n",
      "        mvt_player = move.MovePlayer(self.poppy_robot, mvt)\n",
      "        mvt_player.start()\n",
      "        mvt_player.wait_to_stop()\n",
      "        del mvt_player\n",
      "\n",
      "\n",
      "    def load_move(self, mvt_name):\n",
      "        filename = os.path.join(self.move_path, mvt_name +'.json')\n",
      "\n",
      "        with open(filename, 'r') as f:\n",
      "            mvt = move.Move.load(f)\n",
      "\n",
      "        return mvt\n",
      "\n",
      "\n",
      "\n",
      "class InitMove(pypot.primitive.Primitive):\n",
      "    def __init__(self, poppy_robot, mvt, duration=2):\n",
      "        pypot.primitive.Primitive.__init__(self, poppy_robot)\n",
      "\n",
      "        self.poppy_robot = poppy_robot\n",
      "        self.mvt = mvt\n",
      "        self.duration = duration\n",
      "\n",
      "    def run(self):\n",
      "        self.poppy_robot.goto_position(self.mvt.get_frame(0), self.duration)\n",
      "        time.sleep(self.duration)\n",
      "\n",
      "    def teardown(self):\n",
      "        for m in self.poppy_robot.motors:\n",
      "            m.moving_speed = 0\n",
      "\n",
      "\n",
      "TORQUE_MIN = 20\n",
      "TORQUE_MAX = 95\n",
      "MAX_ERROR = 10\n",
      "\n",
      "class ProtectPoppy(pypot.primitive.LoopPrimitive):\n",
      "    def __init__(self, poppy_robot, freq=20):\n",
      "        pypot.primitive.LoopPrimitive.__init__(self, poppy_robot, freq)\n",
      "        self.poppy_robot = poppy_robot\n",
      "\n",
      "    def update(self):\n",
      "        for m in self.poppy_robot.motors:\n",
      "            self.adjust_torque(m)\n",
      "\n",
      "        # print 'torque:', [m.torque_limit for m in self.poppy_robot.motors]\n",
      "\n",
      "    def adjust_torque(self, motor):\n",
      "        target = motor.goal_position\n",
      "        pos = motor.present_position\n",
      "        dist = abs(target - pos)\n",
      "\n",
      "        if dist > MAX_ERROR:\n",
      "            motor.torque_limit = TORQUE_MAX\n",
      "        else:\n",
      "            motor.torque_limit = TORQUE_MIN + dist/MAX_ERROR * (TORQUE_MAX - TORQUE_MIN)\n",
      "\n",
      "\n",
      "    def teardown(self):\n",
      "        for m in self.poppy_robot.motors:\n",
      "            m.torque_limit = TORQUE_MAX\n"
     ],
     "language": "python",
     "metadata": {},
     "outputs": [],
     "prompt_number": 1
    },
    {
     "cell_type": "code",
     "collapsed": false,
     "input": [
      "import pypot.robot\n",
      "\n",
      "from poppytools.configuration.config import poppy_config"
     ],
     "language": "python",
     "metadata": {},
     "outputs": [],
     "prompt_number": 2
    },
    {
     "cell_type": "code",
     "collapsed": false,
     "input": [
      "poppy = pypot.robot.from_config(poppy_config)\n",
      "poppy.start_sync()"
     ],
     "language": "python",
     "metadata": {},
     "outputs": [],
     "prompt_number": 3
    },
    {
     "cell_type": "code",
     "collapsed": false,
     "input": [
      "poppy.compliant = False"
     ],
     "language": "python",
     "metadata": {},
     "outputs": [],
     "prompt_number": 4
    },
    {
     "cell_type": "code",
     "collapsed": false,
     "input": [
      "poppy.attach_primitive(GroundMotionIntro(poppy), 'init_dance')"
     ],
     "language": "python",
     "metadata": {},
     "outputs": [],
     "prompt_number": 5
    },
    {
     "cell_type": "code",
     "collapsed": false,
     "input": [
      "poppy.init_dance.start()"
     ],
     "language": "python",
     "metadata": {},
     "outputs": [],
     "prompt_number": 6
    },
    {
     "cell_type": "code",
     "collapsed": false,
     "input": [
      "\n",
      "poppy.init_dance.stop()"
     ],
     "language": "python",
     "metadata": {},
     "outputs": [],
     "prompt_number": 7
    },
    {
     "cell_type": "code",
     "collapsed": false,
     "input": [],
     "language": "python",
     "metadata": {},
     "outputs": [],
     "prompt_number": 7
    },
    {
     "cell_type": "code",
     "collapsed": false,
     "input": [
      "poppy.attach_primitive(ProtectPoppy(poppy), 'safe')"
     ],
     "language": "python",
     "metadata": {},
     "outputs": [],
     "prompt_number": 5
    },
    {
     "cell_type": "code",
     "collapsed": false,
     "input": [
      "poppy.safe.start()"
     ],
     "language": "python",
     "metadata": {},
     "outputs": [],
     "prompt_number": 6
    },
    {
     "cell_type": "code",
     "collapsed": false,
     "input": [
      "poppy.safe.stop()"
     ],
     "language": "python",
     "metadata": {},
     "outputs": [],
     "prompt_number": 7
    },
    {
     "cell_type": "code",
     "collapsed": false,
     "input": [
      "print [m.torque_limit for m in poppy.motors]"
     ],
     "language": "python",
     "metadata": {},
     "outputs": [
      {
       "output_type": "stream",
       "stream": "stdout",
       "text": [
        "[25.325000000000006, 95, 23.974999999999994, 22.624999999999996, 22.625000000000011, 22.25, 22.174999999999994, 26.599999999999966, 23.300000000000036, 23.97499999999998, 23.300000000000036, 23.299999999999983, 24.574999999999996, 20.675000000000026, 20.599999999999987, 29.899999999999999, 23.974999999999994, 21.95000000000001, 21.350000000000001, 22.625000000000011, 29.224999999999994, 20.675000000000001, 26.599999999999994, 22.625, 27.950000000000017]\n"
       ]
      }
     ],
     "prompt_number": 44
    },
    {
     "cell_type": "code",
     "collapsed": false,
     "input": [
      "print [m.present_temperature for m in poppy.motors]"
     ],
     "language": "python",
     "metadata": {},
     "outputs": [
      {
       "output_type": "stream",
       "stream": "stdout",
       "text": [
        "[38.0, 77.0, 36.0, 37.0, 39.0, 45.0, 45.0, 35.0, 35.0, 33.0, 35.0, 35.0, 33.0, 31.0, 33.0, 36.0, 34.0, 38.0, 32.0, 31.0, 39.0, 36.0, 35.0, 32.0, 32.0]\n"
       ]
      }
     ],
     "prompt_number": 51
    },
    {
     "cell_type": "code",
     "collapsed": false,
     "input": [
      "print [m.name for m in poppy.motors]"
     ],
     "language": "python",
     "metadata": {},
     "outputs": [
      {
       "output_type": "stream",
       "stream": "stdout",
       "text": [
        "[u'abs_y', u'abs_x', u'abs_z', u'bust_y', u'bust_x', u'head_z', u'head_y', u'l_shoulder_y', u'l_shoulder_x', u'l_arm_z', u'l_elbow_y', u'r_shoulder_y', u'r_shoulder_x', u'r_arm_z', u'r_elbow_y', u'l_hip_x', u'l_hip_z', u'l_hip_y', u'l_knee_y', u'l_ankle_y', u'r_hip_x', u'r_hip_z', u'r_hip_y', u'r_knee_y', u'r_ankle_y']\n"
       ]
      }
     ],
     "prompt_number": 17
    },
    {
     "cell_type": "code",
     "collapsed": false,
     "input": [],
     "language": "python",
     "metadata": {},
     "outputs": []
    }
   ],
   "metadata": {}
  }
 ]
}