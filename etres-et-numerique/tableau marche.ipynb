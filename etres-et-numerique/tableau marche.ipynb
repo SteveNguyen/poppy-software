{
 "metadata": {
  "name": "tableau marche"
 },
 "nbformat": 3,
 "nbformat_minor": 0,
 "worksheets": [
  {
   "cells": [
    {
     "cell_type": "code",
     "collapsed": false,
     "input": [
      "from poppytools.primitive.walking import WalkingGaitFromCPGFile\n",
      "from poppytools.primitive.basic import SitPosition, StandPosition\n",
      "from poppytools.configuration.config import poppy_config\n",
      "from poppytools.primitive.safe import ProtectPoppy\n",
      "from pypot.primitive.utils import Sinus"
     ],
     "language": "python",
     "metadata": {},
     "outputs": [],
     "prompt_number": 1
    },
    {
     "cell_type": "code",
     "collapsed": false,
     "input": [
      "import pypot.robot\n",
      "poppy = pypot.robot.from_config(poppy_config)\n",
      "poppy.start_sync()"
     ],
     "language": "python",
     "metadata": {},
     "outputs": [],
     "prompt_number": 2
    },
    {
     "cell_type": "code",
     "collapsed": false,
     "input": [
      "\n",
      "\n",
      "poppy.attach_primitive(ProtectPoppy(poppy),'protection')\n",
      "poppy.attach_primitive(StandPosition(poppy), 'stand')\n",
      "poppy.attach_primitive(WalkingGaitFromCPGFile(poppy, cycle_period=3.5, gain=1.5), 'walk')\n",
      "poppy.attach_primitive(SitPosition(poppy), 'sit')\n",
      "\n",
      "poppy.protection.start()"
     ],
     "language": "python",
     "metadata": {},
     "outputs": [],
     "prompt_number": 3
    },
    {
     "cell_type": "code",
     "collapsed": false,
     "input": [
      "head = Sinus(poppy, 50, [poppy.head_z,], amp=10, freq=0.2)\n",
      "bras = Sinus(poppy, 50, [poppy.l_shoulder_y,], amp=10, freq=0.2)\n",
      "bras2 = Sinus(poppy, 50, [poppy.r_shoulder_y,], amp=10, freq=0.2, phase=180)\n",
      "\n",
      "head.start()\n",
      "bras.start()\n",
      "bras2.start()\n",
      "\n",
      "poppy.stand.start()\n",
      "\n",
      "poppy.stand.wait_to_stop()\n",
      "\n",
      "poppy.walk.start()"
     ],
     "language": "python",
     "metadata": {},
     "outputs": [
      {
       "output_type": "stream",
       "stream": "stdout",
       "text": [
        "initialisation\n",
        "bite"
       ]
      },
      {
       "output_type": "stream",
       "stream": "stdout",
       "text": [
        "\n"
       ]
      }
     ],
     "prompt_number": 4
    },
    {
     "cell_type": "code",
     "collapsed": false,
     "input": [
      "for m in poppy.motors:\n",
      "    m.compliant = False"
     ],
     "language": "python",
     "metadata": {},
     "outputs": [],
     "prompt_number": 8
    },
    {
     "cell_type": "code",
     "collapsed": false,
     "input": [
      "poppy.walk.stop()\n",
      "poppy.walk.wait_to_stop()\n",
      "head.stop()\n",
      "bras.stop()\n",
      "bras2.stop()\n",
      "poppy.sit.start()"
     ],
     "language": "python",
     "metadata": {},
     "outputs": [],
     "prompt_number": 5
    },
    {
     "cell_type": "code",
     "collapsed": false,
     "input": [
      "from pypot.primitive.utils import Sinus"
     ],
     "language": "python",
     "metadata": {},
     "outputs": [],
     "prompt_number": 1
    },
    {
     "cell_type": "code",
     "collapsed": false,
     "input": [
      "bras = Sinus(poppy, 50, [poppy.l_shoulder_y,], amp=10, freq=0.2)\n",
      "bras2 = Sinus(poppy, 50, [poppy.r_shoulder_y,], amp=10, freq=0.2, phase=180)"
     ],
     "language": "python",
     "metadata": {},
     "outputs": [],
     "prompt_number": 9
    },
    {
     "cell_type": "code",
     "collapsed": false,
     "input": [
      "bras.start()\n",
      "bras2.start()"
     ],
     "language": "python",
     "metadata": {},
     "outputs": [],
     "prompt_number": 10
    },
    {
     "cell_type": "code",
     "collapsed": false,
     "input": [],
     "language": "python",
     "metadata": {},
     "outputs": [],
     "prompt_number": 12
    },
    {
     "cell_type": "code",
     "collapsed": false,
     "input": [
      "head.amplitude = 30"
     ],
     "language": "python",
     "metadata": {},
     "outputs": [],
     "prompt_number": 13
    },
    {
     "cell_type": "code",
     "collapsed": false,
     "input": [
      "bras2.stop()\n",
      "bras.stop()"
     ],
     "language": "python",
     "metadata": {},
     "outputs": [],
     "prompt_number": 8
    },
    {
     "cell_type": "code",
     "collapsed": false,
     "input": [
      "poppy.head_y.compliant = True"
     ],
     "language": "python",
     "metadata": {},
     "outputs": [],
     "prompt_number": 7
    },
    {
     "cell_type": "code",
     "collapsed": false,
     "input": [],
     "language": "python",
     "metadata": {},
     "outputs": []
    }
   ],
   "metadata": {}
  }
 ]
}